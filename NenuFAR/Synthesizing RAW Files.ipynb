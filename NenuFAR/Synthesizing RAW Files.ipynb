{
 "cells": [
  {
   "cell_type": "code",
   "execution_count": 1,
   "metadata": {},
   "outputs": [],
   "source": [
    "from utils import *\n",
    "import matplotlib.pyplot as plt\n",
    "import numpy as np\n",
    "import difflib\n",
    "\n",
    "import sys\n",
    "import time"
   ]
  },
  {
   "cell_type": "code",
   "execution_count": 2,
   "metadata": {},
   "outputs": [
    {
     "data": {
      "text/plain": [
       "524288"
      ]
     },
     "execution_count": 2,
     "metadata": {},
     "output_type": "execute_result"
    }
   ],
   "source": [
    "NPOL = 2\n",
    "OBSNCHAN = 64\n",
    "NBITS = 8\n",
    "BLOCSIZE = 134217728\n",
    "NDIM = int(BLOCSIZE / (OBSNCHAN * NPOL * (NBITS/8)))//2\n",
    "NDIM"
   ]
  },
  {
   "cell_type": "code",
   "execution_count": 3,
   "metadata": {},
   "outputs": [],
   "source": [
    "source_file = open(\"../data/blc04_guppi_57899_53848_DIAG_HIP19849_0002.0000.raw\", \"rb\")"
   ]
  },
  {
   "cell_type": "code",
   "execution_count": 4,
   "metadata": {},
   "outputs": [],
   "source": [
    "def get_sample_header(file):\n",
    "    header, h_length, header_dict = read_header(file)\n",
    "    bleed_data(file, header_dict)\n",
    "    return header, header_dict"
   ]
  },
  {
   "cell_type": "code",
   "execution_count": 5,
   "metadata": {},
   "outputs": [],
   "source": [
    "#header, header_dict = get_sample_header(file)\n",
    "#print(header)"
   ]
  },
  {
   "cell_type": "code",
   "execution_count": 6,
   "metadata": {},
   "outputs": [],
   "source": [
    "pol_0 = generate_2d_normal((NDIM))\n",
    "pol_1 = generate_2d_normal((NDIM))"
   ]
  },
  {
   "cell_type": "raw",
   "metadata": {},
   "source": [
    "x = np.arange(0, NDIM/10000, 0.0001)\n",
    "pol_0_real = np.int8(np.sin(x*300000*np.pi/NDIM)*127)\n",
    "pol_0_imag = pol_0_real/4\n",
    "plt.plot(pol_0_real)\n",
    "plt.plot(pol_0_imag)"
   ]
  },
  {
   "cell_type": "code",
   "execution_count": 8,
   "metadata": {},
   "outputs": [],
   "source": [
    "channel = generate_channel(NDIM, NPOL)\n",
    "channel[0] = pol_0_real\n",
    "channel[1] = pol_0_imag"
   ]
  },
  {
   "cell_type": "raw",
   "metadata": {},
   "source": [
    "plt.plot(channel[0])\n",
    "plt.plot(channel[1])\n",
    "plt.figure()\n",
    "plt.plot(channel[2])\n",
    "plt.plot(channel[3])"
   ]
  },
  {
   "cell_type": "raw",
   "metadata": {},
   "source": [
    "\"\"\"\n",
    "d = {\"NPOL\": 4, \"OBSNCHAN\": 64, \"NBITS\": 8,\n",
    "     \"BLOCSIZE\": 134217728, \"DIRECTIO\": 1,\n",
    "    \"OBSERVER\": \"'Yuhong Chen'\"}\n",
    "for key, value in d.items():\n",
    "    header_dict[key] = value\n",
    "d = header_dict\n",
    "header = generate_header(d)\n",
    "header_str = header.decode(\"utf-8\")\n",
    "while header_str:\n",
    "    line, header_str = header_str[0:min(80, len(header_str))], header_str[min(80, len(header_str)):]\n",
    "    print(line)\n",
    "\"\"\""
   ]
  },
  {
   "cell_type": "code",
   "execution_count": 10,
   "metadata": {},
   "outputs": [
    {
     "data": {
      "text/plain": [
       "(524288, 4)"
      ]
     },
     "execution_count": 10,
     "metadata": {},
     "output_type": "execute_result"
    }
   ],
   "source": [
    "channel = np.array(channel, dtype = np.int8)\n",
    "channel.T.shape"
   ]
  },
  {
   "cell_type": "code",
   "execution_count": 11,
   "metadata": {},
   "outputs": [
    {
     "name": "stdout",
     "output_type": "stream",
     "text": [
      "Finished Writing Data Block 0     \n",
      "Finished Writing Data Block 1     \n",
      "Finished Writing Data Block 2     \n",
      "Finished Writing Data Block 3     \n",
      "Finished Writing Data Block 4     \n",
      "Finished Writing Data Block 5     \n",
      "Finished Writing Data Block 6     \n",
      "Finished Writing Data Block 7     \n",
      "Finished Writing Data Block 8     \n",
      "Finished Writing Data Block 9     \n",
      "Finished Writing Data Block 10     \n",
      "Finished Writing Data Block 11     \n",
      "Finished Writing Data Block 12     \n",
      "Finished Writing Data Block 13     \n",
      "Finished Writing Data Block 14     \n",
      "Finished Writing Data Block 15     \n",
      "Finished Writing Data Block 16     \n",
      "Writing Channel 46 of Data Block 17\r"
     ]
    },
    {
     "ename": "KeyboardInterrupt",
     "evalue": "",
     "output_type": "error",
     "traceback": [
      "\u001b[0;31m---------------------------------------------------------------------------\u001b[0m",
      "\u001b[0;31mKeyboardInterrupt\u001b[0m                         Traceback (most recent call last)",
      "\u001b[0;32m<ipython-input-11-d2f7a5d67f01>\u001b[0m in \u001b[0;36m<module>\u001b[0;34m\u001b[0m\n\u001b[1;32m     17\u001b[0m             \u001b[0mchannel\u001b[0m \u001b[0;34m=\u001b[0m \u001b[0mnp\u001b[0m\u001b[0;34m.\u001b[0m\u001b[0marray\u001b[0m\u001b[0;34m(\u001b[0m\u001b[0mchannel\u001b[0m\u001b[0;34m,\u001b[0m \u001b[0mdtype\u001b[0m \u001b[0;34m=\u001b[0m \u001b[0mnp\u001b[0m\u001b[0;34m.\u001b[0m\u001b[0mint8\u001b[0m\u001b[0;34m)\u001b[0m\u001b[0;34m\u001b[0m\u001b[0m\n\u001b[1;32m     18\u001b[0m             \u001b[0mprint\u001b[0m\u001b[0;34m(\u001b[0m\u001b[0;34m\"Writing Channel {0} of Data Block {1}\"\u001b[0m\u001b[0;34m.\u001b[0m\u001b[0mformat\u001b[0m\u001b[0;34m(\u001b[0m\u001b[0mj\u001b[0m\u001b[0;34m,\u001b[0m \u001b[0mi\u001b[0m\u001b[0;34m)\u001b[0m\u001b[0;34m,\u001b[0m \u001b[0mend\u001b[0m\u001b[0;34m=\u001b[0m\u001b[0;34m\"\\r\"\u001b[0m\u001b[0;34m,\u001b[0m \u001b[0mflush\u001b[0m\u001b[0;34m=\u001b[0m\u001b[0;32mTrue\u001b[0m\u001b[0;34m)\u001b[0m\u001b[0;34m\u001b[0m\u001b[0m\n\u001b[0;32m---> 19\u001b[0;31m             \u001b[0mfile\u001b[0m\u001b[0;34m.\u001b[0m\u001b[0mwrite\u001b[0m\u001b[0;34m(\u001b[0m\u001b[0mchannel\u001b[0m\u001b[0;34m.\u001b[0m\u001b[0mT\u001b[0m\u001b[0;34m.\u001b[0m\u001b[0mtobytes\u001b[0m\u001b[0;34m(\u001b[0m\u001b[0;34m)\u001b[0m\u001b[0;34m)\u001b[0m\u001b[0;34m\u001b[0m\u001b[0m\n\u001b[0m\u001b[1;32m     20\u001b[0m         \u001b[0mprint\u001b[0m\u001b[0;34m(\u001b[0m\u001b[0;34m\"Finished Writing Data Block {0}     \"\u001b[0m\u001b[0;34m.\u001b[0m\u001b[0mformat\u001b[0m\u001b[0;34m(\u001b[0m\u001b[0mi\u001b[0m\u001b[0;34m)\u001b[0m\u001b[0;34m,\u001b[0m \u001b[0mend\u001b[0m\u001b[0;34m=\u001b[0m\u001b[0;34m\"\\n\\r\"\u001b[0m\u001b[0;34m,\u001b[0m \u001b[0mflush\u001b[0m\u001b[0;34m=\u001b[0m\u001b[0;32mTrue\u001b[0m\u001b[0;34m)\u001b[0m\u001b[0;34m\u001b[0m\u001b[0m\n\u001b[1;32m     21\u001b[0m     \u001b[0mprint\u001b[0m\u001b[0;34m(\u001b[0m\u001b[0;34m\"Done\"\u001b[0m\u001b[0;34m)\u001b[0m\u001b[0;34m\u001b[0m\u001b[0m\n",
      "\u001b[0;31mKeyboardInterrupt\u001b[0m: "
     ]
    }
   ],
   "source": [
    "# write\n",
    "with open(\"test-128-64.raw\", \"wb\") as file:\n",
    "    for i in range(128):\n",
    "        header, header_dict = get_sample_header(source_file)\n",
    "        d = {\"NPOL\": 4, \"OBSNCHAN\": 64, \"NBITS\": 8,\n",
    "         \"BLOCSIZE\": 134217728, \"DIRECTIO\": 1,\n",
    "        \"OBSERVER\": \"'Yuhong Chen'\"}\n",
    "        for key, value in d.items():\n",
    "            header_dict[key] = value\n",
    "        d = header_dict\n",
    "        header = generate_header(d)\n",
    "        file.write(header)\n",
    "        for j in range(64):\n",
    "            channel = generate_channel(NDIM, NPOL)\n",
    "            channel[0] = pol_0_real\n",
    "            channel[1] = pol_0_imag\n",
    "            channel = np.array(channel, dtype = np.int8)\n",
    "            print(\"Writing Channel {0} of Data Block {1}\".format(j, i), end=\"\\r\", flush=True)\n",
    "            file.write(channel.T.tobytes())\n",
    "        print(\"Finished Writing Data Block {0}     \".format(i), end=\"\\n\\r\", flush=True)\n",
    "    print(\"Done\")"
   ]
  },
  {
   "cell_type": "code",
   "execution_count": null,
   "metadata": {},
   "outputs": [],
   "source": [
    "for i in range(20):\n",
    "    for j in range(64):\n",
    "        print(\"Writing Channel {0} of Data Block {1}\".format(j, i), end=\"\\r\", flush=True)\n",
    "    print(\"Finished Writing Data Block {0}     \".format(i), end=\"\\n\\r\", flush=True)\n",
    "print(\"Done\")"
   ]
  },
  {
   "cell_type": "code",
   "execution_count": null,
   "metadata": {},
   "outputs": [],
   "source": []
  }
 ],
 "metadata": {
  "kernelspec": {
   "display_name": "BSRC_Env",
   "language": "python",
   "name": "bsrc_env"
  },
  "language_info": {
   "codemirror_mode": {
    "name": "ipython",
    "version": 3
   },
   "file_extension": ".py",
   "mimetype": "text/x-python",
   "name": "python",
   "nbconvert_exporter": "python",
   "pygments_lexer": "ipython3",
   "version": "3.6.5"
  }
 },
 "nbformat": 4,
 "nbformat_minor": 2
}
