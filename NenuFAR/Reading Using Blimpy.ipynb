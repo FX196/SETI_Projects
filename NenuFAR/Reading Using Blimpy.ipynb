{
 "cells": [
  {
   "cell_type": "code",
   "execution_count": 1,
   "metadata": {},
   "outputs": [],
   "source": [
    "from utils import *\n",
    "import matplotlib.pyplot as plt\n",
    "import numpy as np\n",
    "\n",
    "import sys\n",
    "sys.path.append('../')\n",
    "from blimpy_yuhong.blimpy.guppi import GuppiRaw as GuppiRaw_dev\n",
    "from blimpy.guppi import GuppiRaw\n",
    "\n",
    "#http://breakthroughinitiatives.org/opendatasearch\n",
    "#smallest voyager raw file (33.1 mb)\n",
    "smallerraw='../data/blc0_2bit_guppi_57396_VOYAGER1_0006.0013.raw'\n",
    "#small voyager raw file (66.1 mb)\n",
    "smallraw='data/blc1_2bit_guppi_57396_VOYAGER1_0006.0013.raw'\n",
    "#voyager raw file (~4gb)\n",
    "bigraw='../data/blc2_2bit_guppi_57396_VOYAGER1_0006.0012.raw'\n",
    "#M31 raw file (66.1 mb)\n",
    "M31raw='../data/blc1_2bit_guppi_57398_MESSIER031_0019.0013.raw'\n",
    "#large raw file (~16 gb)\n",
    "DIAGraw = \"../data/blc04_guppi_57899_53848_DIAG_HIP19849_0002.0000.raw\""
   ]
  },
  {
   "cell_type": "code",
   "execution_count": 5,
   "metadata": {},
   "outputs": [],
   "source": [
    "gr = GuppiRaw_dev(DIAGraw)"
   ]
  },
  {
   "cell_type": "code",
   "execution_count": 6,
   "metadata": {},
   "outputs": [
    {
     "name": "stdout",
     "output_type": "stream",
     "text": [
      "(64, 524288, 4)\n"
     ]
    }
   ],
   "source": [
    "header, pol0, pol1 = gr.read_next_data_block_int8()"
   ]
  },
  {
   "cell_type": "code",
   "execution_count": null,
   "metadata": {},
   "outputs": [],
   "source": [
    "print(pol0[0].shape)\n",
    "plt.figure(figsize=(10, 5))\n",
    "plt.plot(pol0[0][...,0])"
   ]
  },
  {
   "cell_type": "code",
   "execution_count": null,
   "metadata": {},
   "outputs": [],
   "source": [
    "a = np.arange(120)\n",
    "a"
   ]
  },
  {
   "cell_type": "code",
   "execution_count": null,
   "metadata": {},
   "outputs": [],
   "source": [
    "np.reshape(a, (5,6,4))[0]"
   ]
  },
  {
   "cell_type": "code",
   "execution_count": 38,
   "metadata": {},
   "outputs": [
    {
     "data": {
      "text/plain": [
       "b'\\x0f\\xca\\xdd\\r\\xf4\\x01\\xe2\\xff\\x08\\x0f\\x05\"\\x0b\\xfb\\xdc\\x04\\xf8\\xeb\\xe2\\xff\\xe9\\xf9\\xd8\\xf9\\xf6 \\xf1\\xf2\\x1f\\x11\\x02\\xf4\\xd5\\xfa\\n\\xf1\\xd4\\xe5\\xfd\\x1a-\\x0b\\xf4\\x11\\x0f\\xe2>\\x14\\x02\\x02\\x0f\\t\\xee#\\x11\\x13\\x16\\x0f\\xd7Q\\x06\\x1a\\xd8\\x11\\xf5\\xee\\xf3 *\\xee\\xe3\\x03\\xd4\\x1b\\xff\\xef\\xe7\\xf2!*\\x0b\\xef(\\xc6\\x12\\x11\\'\\xea\\n\\x0b\\xf0\\xf4\\xff\\xe2\\x0c#$\\xed\\xe71\\xe7\\xf7\\xd2\\r\\xf1\"\\xff\\x1e&.\\xe0\\xf9\\x01\\x17\\r\\x1c\\x04\\x1d\\x04\\x03\\xe5\\xdf\\xfb\\x0f\\x00\\xe5\\xf1\\x18\\x0c+\\x0b\\x02.\\x08\\xee\\xf7\\x08\\xe7\\xd0\\x03\\xd1)\\x17\\xfc\\xed\\xf2\\x15\\xda\\xf8\\xda\\xee\\xf4\\xcc\\xf1\\x17\\xe2\\xfe\\xf1\\x19\\xe5\\x10\\xf2\\xee\\x08\\xda\\xfb\\xc5\\x0c\\xdfI\\xdb\\xf7\\xd7\\x04\\xe3\\xef\\xe5\\x11\\xe9\\x1f\\xff\\xff\\x1b\\xe6\\xfe\\x07\\xf9\\xd2\\t\\xf7\\x05\\xfc\\xf3\\xfd\\x01$\\xf2\\x14\\xe8\\xe4\\x0c\\r\\xcd\\xe0\\xff\\x0b\\x18\\xf7\\xf7\\xfa,\\xf2\\x0c\\xfa\\x1a\\x0e\\x11\\x00\\xeb\\n\\xfd\\xe5\\x02\\xee\\xde\\xf6\\x12\\x08\\xfe\\'\\xe3\\x16\\x1c\\xf7\\xee\\x03\\x0f\\xd2\\t\\xed\\x02\\x15\\x03\\x13,B\\xf6\\xd1\\xfb\\xf9\\xfb5\\xf2\\xf0\\xe6\\xf8\\x11(\\xd4\\xf0$\\x0c\\xed\\x0e\\x02\\r\\xf1\\xf8\\x17\\x10\\x0e\\x1d\\x1b\\x08\\xfc\\t\\xfa\\x10\\x13\\x04\\x1a\\xd4\\x1f5&\\xde\\xf3\\xf9\\x14\\xf6\\xf4\\xe8\\x07\\x07\\xce!\\xf2\\xf3\\xfe#\\xfb\\xf1\\n\\x0b\\x1b\\xf1\\xf8\\xfd\\xe2\\xf6\\xc8\\xf2\\x1c/\\x10\\x1e\\x15\\x02\\x06\\x00\\xc9!\\x1a7\\x06\\x01\\x07\\xfa\\x0b\\xd8\\x0f\\'\\xef\\xff\\x07\\xe6\\xf9\\x08\\xde\\xdf\\x04\\r\\x15\\xf6 \\x00\\x0c\\x01\\x02\\x04\\x0b\\x11\\xf5\\x06\\xe4\\xdb\\x06\\x14\\xf7\\xf5\\xfb\\xfd\\xf2\\xfc\\xe5\\xf6\\x02\\x00\\xf9\\x06\\xf7\\x14\\x13\\x15\\xee\\xe1\\xea\\xee\\xf4\\x0c\\r\\x13\\x16\\xd4;\\xf8\\x13\\x07\\x17\\xf9\\xf2\\xf1\\xdd\\xc5\\xe3\\xef%\\xd1\\x1d\\x17\\x17\\x01\\xe1\\xef\\xfd\\x0b\\xe8\\x05\\x0c\\x08!\\xda\\xfe\\r\\xff-4\\xf6\\x04\\xf5\\x15\\x07\\xea\\x12\\xe3\\xf3\\xc2\\r\\xf9\"\\x18\\t\\xda\\x1a\\x0f\\x16\\x04\\xf2\\xce\\r\\xf7\\x0e\\xf8\\x05\\xe1\\xee\\xf9\\xe6\\x16\\xcf\\xfd\\x10\\xfe\\xe3\\x03\\x13\\r\\xfd\\xf7\\x18\\x1a\\n\\x18\\xe2\\xfc\\x10$\\x08\\xd5\\xf3\\xda\\xfa\\x12\\xe1\\xd7\\xfc\\x14\\xf0\\x14\\x10\\xd6\\x1e\\'\\xdc\\x05\\xf6\\xfa\\x0b\\x12\\xf7\\xe6\\x10\\x15\\xf9\\x03\\x16\\x1b\\x17\\x11\\xf4\\xf6\\xff0-\\n\\xff\\x1b:!1\\x14 '"
      ]
     },
     "execution_count": 38,
     "metadata": {},
     "output_type": "execute_result"
    }
   ],
   "source": [
    "gr.file_obj.read(512)"
   ]
  },
  {
   "cell_type": "code",
   "execution_count": null,
   "metadata": {},
   "outputs": [],
   "source": []
  }
 ],
 "metadata": {
  "kernelspec": {
   "display_name": "BSRC_Env",
   "language": "python",
   "name": "bsrc_env"
  },
  "language_info": {
   "codemirror_mode": {
    "name": "ipython",
    "version": 3
   },
   "file_extension": ".py",
   "mimetype": "text/x-python",
   "name": "python",
   "nbconvert_exporter": "python",
   "pygments_lexer": "ipython3",
   "version": "3.6.5"
  }
 },
 "nbformat": 4,
 "nbformat_minor": 2
}
